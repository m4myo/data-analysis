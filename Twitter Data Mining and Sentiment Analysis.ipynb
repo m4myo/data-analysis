{
 "cells": [
  {
   "cell_type": "code",
   "execution_count": 81,
   "id": "687cdd4c",
   "metadata": {},
   "outputs": [
    {
     "data": {
      "application/vnd.jupyter.widget-view+json": {
       "model_id": "789d1341051e448ea527d369f4108362",
       "version_major": 2,
       "version_minor": 0
      },
      "text/plain": [
       "Downloading:   0%|          | 0.00/4.14k [00:00<?, ?B/s]"
      ]
     },
     "metadata": {},
     "output_type": "display_data"
    }
   ],
   "source": [
    "#Import all required libraries here\n",
    "import os\n",
    "import tweepy\n",
    "import pandas as pd\n",
    "import requests\n",
    "import csv\n",
    "import torch\n",
    "from transformers import pipeline\n",
    "from dotenv import load_dotenv\n",
    "from datetime import datetime\n",
    "\n",
    "#I have stored all my API keys in a separate .env file and loaded here.\n",
    "load_dotenv()\n",
    "\n",
    "#Sentiment Analysis Model\n",
    "distilbert_model = pipeline(model=\"bhadresh-savani/distilbert-base-uncased-emotion\")"
   ]
  },
  {
   "cell_type": "markdown",
   "id": "7219cad6",
   "metadata": {},
   "source": [
    "#### API Authentication"
   ]
  },
  {
   "cell_type": "code",
   "execution_count": 82,
   "id": "a4abc8fa",
   "metadata": {},
   "outputs": [],
   "source": [
    "#Authentication - importing keys\n",
    "consumer_key = os.environ['API_KEY']\n",
    "consumer_secret = os.environ['API_KEY_SECRET']\n",
    "access_token = os.environ['ACCESS_TOKEN']\n",
    "access_token_secret = os.environ['ACCESS_TOKEN_SECRET']\n",
    "bearer_token = os.environ['BEARER_TOKEN']"
   ]
  },
  {
   "cell_type": "code",
   "execution_count": 83,
   "id": "88bb843e",
   "metadata": {},
   "outputs": [],
   "source": [
    "#Authentication using OAuth1\n",
    "auth = tweepy.OAuth1UserHandler(\n",
    "  consumer_key, \n",
    "  consumer_secret, \n",
    "  access_token, \n",
    "  access_token_secret\n",
    ")\n",
    "\n",
    "#Initiate API\n",
    "api = tweepy.API(auth, wait_on_rate_limit=True)"
   ]
  },
  {
   "cell_type": "markdown",
   "id": "aa10c0fe",
   "metadata": {},
   "source": [
    "#### User Identification and Tweet Extraction"
   ]
  },
  {
   "cell_type": "code",
   "execution_count": 84,
   "id": "a8c40140",
   "metadata": {},
   "outputs": [],
   "source": [
    "#EDIT HERE ONLY\n",
    "#add the twitter handle of an account for data extraction from timeline\n",
    "user = \"RayDalio\""
   ]
  },
  {
   "cell_type": "code",
   "execution_count": 85,
   "id": "61b84cc3",
   "metadata": {},
   "outputs": [],
   "source": [
    "def retrieveTweets(user):\n",
    "    print (\"Extracting records from \",user)\n",
    "    \n",
    "    #Start recording from the latest tweet\n",
    "    tweets = api.user_timeline(screen_name=user, \n",
    "                           # 200 is the maximum allowed count\n",
    "                           count=3000,\n",
    "                           include_rts = False,\n",
    "                           tweet_mode = 'extended',\n",
    "                           exclude_replies = True\n",
    "                           )\n",
    "    \n",
    "    \"\"\"\n",
    "    Use while True to keep extracting 200 records at a time\n",
    "    After one extraction, use the ID earliest created record,\n",
    "    and start the extraction process from the previous one for another 200 records.\n",
    "    \"\"\"\n",
    "    all_tweets = []\n",
    "    all_tweets.extend(tweets)\n",
    "    oldest_id = tweets[-1].id\n",
    "    while True:\n",
    "        tweets = api.user_timeline(screen_name=user, \n",
    "                               # 200 is the maximum allowed count\n",
    "                               count=200,\n",
    "                               include_rts = False,\n",
    "                               max_id = oldest_id - 1,\n",
    "                               # Necessary to keep full_text \n",
    "                               # otherwise only the first 140 words are extracted\n",
    "                               tweet_mode = 'extended'\n",
    "                               )\n",
    "        if len(tweets) == 0:\n",
    "            break\n",
    "        oldest_id = tweets[-1].id\n",
    "        all_tweets.extend(tweets)\n",
    "        print('N of tweets downloaded till now {}'.format(len(all_tweets)))\n",
    "        \n",
    "        #save each selected value of a response into a list.\n",
    "    outtweets = [[tweet.id_str,\n",
    "                  tweet.user.id_str, \n",
    "                  tweet.user.name, \n",
    "                  tweet.created_at,\n",
    "                  tweet.favorite_count,\n",
    "                  tweet.retweet_count,\n",
    "                  tweet.full_text.encode(\"utf-8\").decode(\"utf-8\"),\n",
    "                  distilbert_model([tweet.full_text])[0][\"label\"],\n",
    "                 ] \n",
    "             for idx,tweet in enumerate(all_tweets)]\n",
    "    return outtweets"
   ]
  },
  {
   "cell_type": "markdown",
   "id": "205a9b5c",
   "metadata": {},
   "source": [
    "#### Saving to a Pandas DataFrame and a CSV File"
   ]
  },
  {
   "cell_type": "code",
   "execution_count": null,
   "id": "3e6422e2",
   "metadata": {},
   "outputs": [
    {
     "name": "stdout",
     "output_type": "stream",
     "text": [
      "Extracting records from  RayDalio\n",
      "N of tweets downloaded till now 254\n",
      "N of tweets downloaded till now 454\n",
      "N of tweets downloaded till now 654\n",
      "N of tweets downloaded till now 854\n",
      "N of tweets downloaded till now 1051\n",
      "N of tweets downloaded till now 1250\n",
      "N of tweets downloaded till now 1450\n",
      "N of tweets downloaded till now 1650\n",
      "N of tweets downloaded till now 1850\n",
      "N of tweets downloaded till now 2050\n",
      "N of tweets downloaded till now 2250\n",
      "N of tweets downloaded till now 2450\n",
      "N of tweets downloaded till now 2650\n",
      "N of tweets downloaded till now 2849\n",
      "N of tweets downloaded till now 3048\n",
      "N of tweets downloaded till now 3098\n"
     ]
    }
   ],
   "source": [
    "extracted_tweets = retrieveTweets(user)\n",
    "df = pd.DataFrame (extracted_tweets, columns = [\"tweet_id\", \"user_id\",\"user_name\",\"created_at\", \"favorite_count\",\"retweet_count\",\"tweet\",\"sentiment\"])"
   ]
  },
  {
   "cell_type": "code",
   "execution_count": null,
   "id": "1855116a",
   "metadata": {},
   "outputs": [],
   "source": [
    "df.to_csv('%s_tweets.csv' % user,index=False)\n",
    "df"
   ]
  },
  {
   "cell_type": "code",
   "execution_count": null,
   "id": "8bce8695",
   "metadata": {},
   "outputs": [],
   "source": [
    "df.info()"
   ]
  },
  {
   "cell_type": "code",
   "execution_count": null,
   "id": "b67b8b18",
   "metadata": {},
   "outputs": [],
   "source": []
  }
 ],
 "metadata": {
  "kernelspec": {
   "display_name": "Python 3 (ipykernel)",
   "language": "python",
   "name": "python3"
  },
  "language_info": {
   "codemirror_mode": {
    "name": "ipython",
    "version": 3
   },
   "file_extension": ".py",
   "mimetype": "text/x-python",
   "name": "python",
   "nbconvert_exporter": "python",
   "pygments_lexer": "ipython3",
   "version": "3.9.12"
  }
 },
 "nbformat": 4,
 "nbformat_minor": 5
}
